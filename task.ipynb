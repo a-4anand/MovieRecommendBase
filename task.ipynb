{
 "cells": [
  {
   "cell_type": "markdown",
   "metadata": {},
   "source": [
    "## Movie Recommendetion Web aap"
   ]
  },
  {
   "cell_type": "markdown",
   "metadata": {},
   "source": [
    "Description: This is a self data science project where I used collaborative filtering to get recommendations of movies using Netflix movies and rating files. Since the rating file contains more than 10 million rows, it was tough to perform data analysis. Therefore, I changed the data format from CSV to Parquet."
   ]
  },
  {
   "cell_type": "code",
   "execution_count": 39,
   "metadata": {},
   "outputs": [],
   "source": [
    "# importing all necesssory liabraries\n",
    "\n",
    "import pandas as pd\n",
    "import re\n",
    "import numpy as np\n",
    "from sklearn.feature_extraction.text import TfidfVectorizer\n",
    "from sklearn.metrics.pairwise import cosine_similarity\n",
    "import ipywidgets as widgets\n",
    "from IPython.display import display\n",
    "from threading import Timer\n"
   ]
  },
  {
   "cell_type": "markdown",
   "metadata": {},
   "source": [
    "* loading the data \n",
    "\n",
    "for our application i used natflix movie and rating data "
   ]
  },
  {
   "cell_type": "code",
   "execution_count": 40,
   "metadata": {},
   "outputs": [],
   "source": [
    "\n",
    "# Load datasets\n",
    "# ratings = pd.read_csv(\"Netflix_Dataset_Rating.csv\")\n",
    "movies = pd.read_csv(\"Netflix_Dataset_Movie.csv\")"
   ]
  },
  {
   "cell_type": "markdown",
   "metadata": {},
   "source": [
    "* since teh rating.csv file was too large to run approx 248 mb , i converted that into parquet file"
   ]
  },
  {
   "cell_type": "code",
   "execution_count": 41,
   "metadata": {},
   "outputs": [],
   "source": [
    "\n",
    "\n",
    "# Write to a Parquet file\n",
    "# ratings.to_parquet(\"ratings.parquet\", index=False)"
   ]
  },
  {
   "cell_type": "code",
   "execution_count": 42,
   "metadata": {},
   "outputs": [],
   "source": [
    "ratings=pd.read_parquet(\"ratings.parquet\")"
   ]
  },
  {
   "cell_type": "markdown",
   "metadata": {},
   "source": [
    "* cleaning the title of the data "
   ]
  },
  {
   "cell_type": "code",
   "execution_count": 43,
   "metadata": {},
   "outputs": [],
   "source": [
    "\n",
    "\n",
    "# Function to clean movie titles\n",
    "# def clean_title(Name):\n",
    "#     return re.sub(\"[^a-zA-Z0-9]\", \" \",Name.lower())\n",
    "def clean_title(Name):\n",
    "    return re.sub(\"[^a-zA-Z0-9 ]\", \"\", Name).lower().strip()\n",
    "\n",
    "\n",
    "# Apply title cleaning\n",
    "movies[\"clean_title\"] = movies[\"Name\"].apply(clean_title)\n"
   ]
  },
  {
   "cell_type": "code",
   "execution_count": 44,
   "metadata": {},
   "outputs": [],
   "source": [
    "# vectorizer = TfidfVectorizer(ngram_range=(1, 3), stop_words='english')\n"
   ]
  },
  {
   "cell_type": "markdown",
   "metadata": {},
   "source": [
    "* using vectorizer to vectorize the title for further analysis"
   ]
  },
  {
   "cell_type": "code",
   "execution_count": 45,
   "metadata": {},
   "outputs": [],
   "source": [
    "vectorizer = TfidfVectorizer(ngram_range=(1, 2), stop_words='english')\n",
    "tfidf = vectorizer.fit_transform(movies[\"clean_title\"])\n"
   ]
  },
  {
   "cell_type": "markdown",
   "metadata": {},
   "source": [
    "* creating a function to search the title "
   ]
  },
  {
   "cell_type": "code",
   "execution_count": 48,
   "metadata": {},
   "outputs": [],
   "source": [
    "def search(Name):\n",
    "    Name = clean_title(Name)\n",
    "    query_vec = vectorizer.transform([Name])\n",
    "    similarity = cosine_similarity(query_vec, tfidf).flatten()\n",
    "    indices = np.argsort(similarity)[::-1][:5]  # Sort in descending order\n",
    "    results = movies.iloc[indices]\n",
    "    if results.empty:\n",
    "        return pd.DataFrame(columns=[\"Movie_ID\", \"Year\", \"Name\", \"clean_title\"])\n",
    "    return results\n",
    "\n",
    "\n"
   ]
  },
  {
   "cell_type": "code",
   "execution_count": 51,
   "metadata": {},
   "outputs": [],
   "source": [
    "movie_input = widgets.Text(\n",
    "    value=\"Character\",\n",
    "    description=\"Movie Title: \",\n",
    "    disabled=False\n",
    ")\n",
    "movie_list = widgets.Output()"
   ]
  },
  {
   "cell_type": "code",
   "execution_count": 52,
   "metadata": {},
   "outputs": [],
   "source": [
    "def on_type(data):\n",
    "    with movie_list:\n",
    "        movie_list.clear_output()\n",
    "        title = data[\"new\"]\n",
    "        if len(title) > 5:\n",
    "            results = search(title)\n",
    "            display(results)"
   ]
  },
  {
   "cell_type": "code",
   "execution_count": 53,
   "metadata": {},
   "outputs": [],
   "source": [
    "movie_input.observe(on_type, names='value')\n",
    "# display(movie_input, movie_list)\n"
   ]
  },
  {
   "cell_type": "code",
   "execution_count": 55,
   "metadata": {},
   "outputs": [],
   "source": [
    "from threading import Timer\n",
    "\n",
    "class Debouncer:\n",
    "    def __init__(self, delay):\n",
    "        self.delay = delay\n",
    "        self.timer = None\n",
    "    \n",
    "    def debounce(self, func):\n",
    "        def wrapper(*args, **kwargs):\n",
    "            if self.timer is not None:\n",
    "                self.timer.cancel()\n",
    "            self.timer = Timer(self.delay, lambda: func(*args, **kwargs))\n",
    "            self.timer.start()\n",
    "        return wrapper\n",
    "\n",
    "debouncer = Debouncer(0.5).debounce\n",
    "\n",
    "@debouncer\n",
    "def on_type(data):\n",
    "    with movie_list:\n",
    "        movie_list.clear_output()\n",
    "        title = data[\"new\"]\n",
    "        if len(title) > 5:\n",
    "            results = search(title)\n",
    "            display(results)\n"
   ]
  },
  {
   "cell_type": "code",
   "execution_count": 56,
   "metadata": {},
   "outputs": [],
   "source": [
    "movie_id=3"
   ]
  },
  {
   "cell_type": "code",
   "execution_count": 57,
   "metadata": {},
   "outputs": [],
   "source": [
    "similar_users=ratings[(ratings[\"Movie_ID\"]== movie_id) & (ratings[\"Rating\"] >3)][\"User_ID\"].unique()\n",
    "similar_users_recs=ratings[(ratings[\"User_ID\"].isin(similar_users)) & (ratings[\"Rating\"] >3)][\"Movie_ID\"]"
   ]
  },
  {
   "cell_type": "code",
   "execution_count": 58,
   "metadata": {},
   "outputs": [],
   "source": [
    "similar_users_recs=similar_users_recs.value_counts() / len(similar_users)\n",
    "similar_users_recs=similar_users_recs[similar_users_recs > 0.1]\n"
   ]
  },
  {
   "cell_type": "code",
   "execution_count": 59,
   "metadata": {},
   "outputs": [
    {
     "data": {
      "text/plain": [
       "Movie_ID\n",
       "3       1.000000\n",
       "571     0.667389\n",
       "2862    0.602384\n",
       "2452    0.587216\n",
       "3371    0.576381\n",
       "          ...   \n",
       "1395    0.101842\n",
       "2152    0.101842\n",
       "468     0.100758\n",
       "2149    0.100758\n",
       "989     0.100758\n",
       "Name: count, Length: 265, dtype: float64"
      ]
     },
     "execution_count": 59,
     "metadata": {},
     "output_type": "execute_result"
    }
   ],
   "source": [
    "similar_users_recs"
   ]
  },
  {
   "cell_type": "code",
   "execution_count": 60,
   "metadata": {},
   "outputs": [],
   "source": [
    "all_users = ratings[(ratings[\"Movie_ID\"].isin(similar_users_recs.index)) & (ratings[\"Rating\"] > 3)]\n",
    "all_users_recs=all_users[\"Movie_ID\"].value_counts()/len(all_users[\"User_ID\"].unique())"
   ]
  },
  {
   "cell_type": "code",
   "execution_count": 61,
   "metadata": {},
   "outputs": [
    {
     "data": {
      "text/plain": [
       "Movie_ID\n",
       "1905    0.643211\n",
       "2452    0.618919\n",
       "4306    0.615726\n",
       "3962    0.573403\n",
       "2862    0.570216\n",
       "          ...   \n",
       "3404    0.008827\n",
       "895     0.008534\n",
       "4450    0.008388\n",
       "3410    0.006763\n",
       "3       0.006436\n",
       "Name: count, Length: 265, dtype: float64"
      ]
     },
     "execution_count": 61,
     "metadata": {},
     "output_type": "execute_result"
    }
   ],
   "source": [
    "all_users_recs"
   ]
  },
  {
   "cell_type": "code",
   "execution_count": 62,
   "metadata": {},
   "outputs": [],
   "source": [
    "rec_percentages=pd.concat([similar_users_recs,all_users_recs], axis=1)\n",
    "rec_percentages.columns=[\"similar\",\"all\"]"
   ]
  },
  {
   "cell_type": "code",
   "execution_count": 63,
   "metadata": {},
   "outputs": [],
   "source": [
    "rec_percentages[\"score\"]=rec_percentages[\"similar\"]/rec_percentages[\"all\"]\n",
    "rec_percentages=rec_percentages.sort_values(\"score\",ascending=False)"
   ]
  },
  {
   "cell_type": "code",
   "execution_count": 64,
   "metadata": {},
   "outputs": [
    {
     "data": {
      "text/html": [
       "<div>\n",
       "<style scoped>\n",
       "    .dataframe tbody tr th:only-of-type {\n",
       "        vertical-align: middle;\n",
       "    }\n",
       "\n",
       "    .dataframe tbody tr th {\n",
       "        vertical-align: top;\n",
       "    }\n",
       "\n",
       "    .dataframe thead th {\n",
       "        text-align: right;\n",
       "    }\n",
       "</style>\n",
       "<table border=\"1\" class=\"dataframe\">\n",
       "  <thead>\n",
       "    <tr style=\"text-align: right;\">\n",
       "      <th></th>\n",
       "      <th>similar</th>\n",
       "      <th>all</th>\n",
       "      <th>score</th>\n",
       "    </tr>\n",
       "    <tr>\n",
       "      <th>Movie_ID</th>\n",
       "      <th></th>\n",
       "      <th></th>\n",
       "      <th></th>\n",
       "    </tr>\n",
       "  </thead>\n",
       "  <tbody>\n",
       "    <tr>\n",
       "      <th>3</th>\n",
       "      <td>1.000000</td>\n",
       "      <td>0.006436</td>\n",
       "      <td>155.385699</td>\n",
       "    </tr>\n",
       "    <tr>\n",
       "      <th>4450</th>\n",
       "      <td>0.187432</td>\n",
       "      <td>0.008388</td>\n",
       "      <td>22.345574</td>\n",
       "    </tr>\n",
       "    <tr>\n",
       "      <th>3301</th>\n",
       "      <td>0.192849</td>\n",
       "      <td>0.009273</td>\n",
       "      <td>20.795981</td>\n",
       "    </tr>\n",
       "    <tr>\n",
       "      <th>3410</th>\n",
       "      <td>0.106176</td>\n",
       "      <td>0.006763</td>\n",
       "      <td>15.698761</td>\n",
       "    </tr>\n",
       "    <tr>\n",
       "      <th>2350</th>\n",
       "      <td>0.134345</td>\n",
       "      <td>0.009329</td>\n",
       "      <td>14.400468</td>\n",
       "    </tr>\n",
       "    <tr>\n",
       "      <th>...</th>\n",
       "      <td>...</td>\n",
       "      <td>...</td>\n",
       "      <td>...</td>\n",
       "    </tr>\n",
       "    <tr>\n",
       "      <th>3825</th>\n",
       "      <td>0.106176</td>\n",
       "      <td>0.229492</td>\n",
       "      <td>0.462654</td>\n",
       "    </tr>\n",
       "    <tr>\n",
       "      <th>1428</th>\n",
       "      <td>0.117010</td>\n",
       "      <td>0.253059</td>\n",
       "      <td>0.462381</td>\n",
       "    </tr>\n",
       "    <tr>\n",
       "      <th>3860</th>\n",
       "      <td>0.120260</td>\n",
       "      <td>0.317631</td>\n",
       "      <td>0.378615</td>\n",
       "    </tr>\n",
       "    <tr>\n",
       "      <th>1962</th>\n",
       "      <td>0.138678</td>\n",
       "      <td>0.368670</td>\n",
       "      <td>0.376158</td>\n",
       "    </tr>\n",
       "    <tr>\n",
       "      <th>2152</th>\n",
       "      <td>0.101842</td>\n",
       "      <td>0.291722</td>\n",
       "      <td>0.349106</td>\n",
       "    </tr>\n",
       "  </tbody>\n",
       "</table>\n",
       "<p>265 rows × 3 columns</p>\n",
       "</div>"
      ],
      "text/plain": [
       "           similar       all       score\n",
       "Movie_ID                                \n",
       "3         1.000000  0.006436  155.385699\n",
       "4450      0.187432  0.008388   22.345574\n",
       "3301      0.192849  0.009273   20.795981\n",
       "3410      0.106176  0.006763   15.698761\n",
       "2350      0.134345  0.009329   14.400468\n",
       "...            ...       ...         ...\n",
       "3825      0.106176  0.229492    0.462654\n",
       "1428      0.117010  0.253059    0.462381\n",
       "3860      0.120260  0.317631    0.378615\n",
       "1962      0.138678  0.368670    0.376158\n",
       "2152      0.101842  0.291722    0.349106\n",
       "\n",
       "[265 rows x 3 columns]"
      ]
     },
     "execution_count": 64,
     "metadata": {},
     "output_type": "execute_result"
    }
   ],
   "source": [
    "rec_percentages"
   ]
  },
  {
   "cell_type": "code",
   "execution_count": 65,
   "metadata": {},
   "outputs": [],
   "source": [
    "def find_similar_movies(movie_id):\n",
    "    similar_users = ratings[(ratings[\"Movie_ID\"] == movie_id) & (ratings[\"Rating\"] > 3)][\"User_ID\"].unique()\n",
    "    similar_users_recs = ratings[(ratings[\"User_ID\"].isin(similar_users)) & (ratings[\"Rating\"] >3)][\"Movie_ID\"]\n",
    "    similar_users_recs = similar_users_recs.value_counts() / len(similar_users)\n",
    "    similar_users_recs = similar_users_recs[similar_users_recs > 0.1]\n",
    "    all_users = ratings[(ratings[\"Movie_ID\"].isin(similar_users_recs.index)) & (ratings[\"Rating\"] >3)]\n",
    "    all_users_recs = all_users[\"Movie_ID\"].value_counts() / len(all_users[\"User_ID\"].unique())\n",
    "    rec_percentages = pd.concat([similar_users_recs, all_users_recs], axis=1)\n",
    "    rec_percentages.columns = [\"similar\", \"all\"]\n",
    "    rec_percentages[\"score\"] = rec_percentages[\"similar\"] / rec_percentages[\"all\"]\n",
    "    rec_percentages = rec_percentages.sort_values(\"score\", ascending=False)\n",
    "    return rec_percentages.head(10).merge(movies, left_on=\"Movie_ID\", right_on=\"Movie_ID\")[[\"Movie_ID\", \"Year\", \"Name\"]]\n"
   ]
  },
  {
   "cell_type": "code",
   "execution_count": 66,
   "metadata": {},
   "outputs": [],
   "source": [
    "movie_name_input=widgets.Text(\n",
    "    value=\"\",\n",
    "    description=\"Movie Title\",\n",
    "    disabled=False\n",
    ")\n",
    "\n"
   ]
  },
  {
   "cell_type": "code",
   "execution_count": 67,
   "metadata": {},
   "outputs": [],
   "source": [
    "recommendation_list=widgets.Output()"
   ]
  },
  {
   "cell_type": "code",
   "execution_count": 68,
   "metadata": {},
   "outputs": [],
   "source": [
    "def on_type(data):     # defining a function to give output\n",
    "    with recommendation_list:\n",
    "        recommendation_list.clear_output()\n",
    "        Name=data[\"new\"]\n",
    "        if len(Name)>5:\n",
    "            results=search(Name)\n",
    "            movie_id=results.iloc[0][\"Movie_ID\"]\n",
    "            display(find_similar_movies(movie_id))\n",
    "\n",
    "movie_name_input.observe(on_type, names=\"value\")\n",
    "# display(movie_name_input,recommendation_list)\n",
    "\n",
    "\n"
   ]
  },
  {
   "cell_type": "markdown",
   "metadata": {},
   "source": [
    "* taking input for the search name "
   ]
  },
  {
   "cell_type": "code",
   "execution_count": 69,
   "metadata": {},
   "outputs": [],
   "source": [
    "movie=input(\"Enter the movie name: \")"
   ]
  },
  {
   "cell_type": "code",
   "execution_count": 70,
   "metadata": {},
   "outputs": [
    {
     "data": {
      "text/html": [
       "<div>\n",
       "<style scoped>\n",
       "    .dataframe tbody tr th:only-of-type {\n",
       "        vertical-align: middle;\n",
       "    }\n",
       "\n",
       "    .dataframe tbody tr th {\n",
       "        vertical-align: top;\n",
       "    }\n",
       "\n",
       "    .dataframe thead th {\n",
       "        text-align: right;\n",
       "    }\n",
       "</style>\n",
       "<table border=\"1\" class=\"dataframe\">\n",
       "  <thead>\n",
       "    <tr style=\"text-align: right;\">\n",
       "      <th></th>\n",
       "      <th>Movie_ID</th>\n",
       "      <th>Year</th>\n",
       "      <th>Name</th>\n",
       "      <th>clean_title</th>\n",
       "    </tr>\n",
       "  </thead>\n",
       "  <tbody>\n",
       "    <tr>\n",
       "      <th>7464</th>\n",
       "      <td>7465</td>\n",
       "      <td>2004</td>\n",
       "      <td>The Life</td>\n",
       "      <td>the life</td>\n",
       "    </tr>\n",
       "    <tr>\n",
       "      <th>10395</th>\n",
       "      <td>10396</td>\n",
       "      <td>1999</td>\n",
       "      <td>After Life</td>\n",
       "      <td>after life</td>\n",
       "    </tr>\n",
       "    <tr>\n",
       "      <th>15786</th>\n",
       "      <td>15787</td>\n",
       "      <td>2003</td>\n",
       "      <td>My Life Without Me</td>\n",
       "      <td>my life without me</td>\n",
       "    </tr>\n",
       "    <tr>\n",
       "      <th>13219</th>\n",
       "      <td>13220</td>\n",
       "      <td>2000</td>\n",
       "      <td>Once in the Life</td>\n",
       "      <td>once in the life</td>\n",
       "    </tr>\n",
       "    <tr>\n",
       "      <th>14592</th>\n",
       "      <td>14593</td>\n",
       "      <td>1993</td>\n",
       "      <td>My Life</td>\n",
       "      <td>my life</td>\n",
       "    </tr>\n",
       "  </tbody>\n",
       "</table>\n",
       "</div>"
      ],
      "text/plain": [
       "       Movie_ID  Year                Name         clean_title\n",
       "7464       7465  2004            The Life            the life\n",
       "10395     10396  1999          After Life          after life\n",
       "15786     15787  2003  My Life Without Me  my life without me\n",
       "13219     13220  2000    Once in the Life    once in the life\n",
       "14592     14593  1993             My Life             my life"
      ]
     },
     "execution_count": 70,
     "metadata": {},
     "output_type": "execute_result"
    }
   ],
   "source": [
    "search(movie)\n"
   ]
  }
 ],
 "metadata": {
  "kernelspec": {
   "display_name": "Python 3",
   "language": "python",
   "name": "python3"
  },
  "language_info": {
   "codemirror_mode": {
    "name": "ipython",
    "version": 3
   },
   "file_extension": ".py",
   "mimetype": "text/x-python",
   "name": "python",
   "nbconvert_exporter": "python",
   "pygments_lexer": "ipython3",
   "version": "3.11.5"
  }
 },
 "nbformat": 4,
 "nbformat_minor": 2
}
